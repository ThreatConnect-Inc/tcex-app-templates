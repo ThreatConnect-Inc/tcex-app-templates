{
 "cells": [
  {
   "attachments": {},
   "cell_type": "markdown",
   "metadata": {},
   "source": [
    "## Notebook Specific Setup\n",
    "\n",
    "The App needs to be launched from the root of the App directory. The following code will simply\n",
    "change the current working directory to the previous directory. Some protections are put into \n",
    "place to ensure that the directory is only changed once."
   ]
  },
  {
   "cell_type": "code",
   "execution_count": 1,
   "metadata": {},
   "outputs": [
    {
     "name": "stdout",
     "output_type": "stream",
     "text": [
      "Current Working Directory: /Users/bsummers/WorkBench/010__DEVELOPMENT/TCTA/tcpb-tcex-4-actions-template\n"
     ]
    }
   ],
   "source": [
    "import os\n",
    "from pathlib import Path\n",
    "\n",
    "# check to ensure we are at the project root (where app.py is located)\n",
    "if not Path('app.py').is_file():\n",
    "    os.chdir(os.path.dirname(os.path.abspath('')))\n",
    "\n",
    "print('Current Working Directory:', Path.cwd())"
   ]
  },
  {
   "attachments": {},
   "cell_type": "markdown",
   "metadata": {},
   "source": [
    "## Run the App\n",
    "\n",
    "The RunLocal Class is setup to run from either the CLI or from Jupyter. The code reads the defined \n",
    "inputs and launches the App as if it was run in platform.\n",
    "\n",
    "### Inputs\n",
    "\n",
    "Inputs can be defined in a variety of ways. Environment variables, \".env\" files, or the\n",
    "\"app_inputs.json\" file.  Best practice would be to define the default inputs (those that would\n",
    "normally be provided by the core Platform) in the .env file or a more global location. The App\n",
    "specific inputs, those defined in the install.json, should be added to the \"app_inputs.json\" file.\n",
    "\n",
    "### Launch the App\n",
    "\n",
    "Executing the following code will launch the App. There is special code in the RunLocal instance\n",
    "to log the output variables for visual validation. The code can be rerun after making changes to\n",
    "the App to validate that those changes are functioning as expected."
   ]
  },
  {
   "cell_type": "code",
   "execution_count": 4,
   "metadata": {},
   "outputs": [
    {
     "name": "stdout",
     "output_type": "stream",
     "text": [
      "Playbook Output Data:\n",
      "{\n",
      "  \"#App:9876:string.action!String\": \"Capitalize\",\n",
      "  \"#App:9876:string.outputs!StringArray\": [\n",
      "    \"Capital me\"\n",
      "  ],\n",
      "  \"#App:9876:string.outputs.count!String\": \"1\"\n",
      "}\n",
      "Successfully ran capitalize action.\n"
     ]
    }
   ],
   "source": [
    "from run_local import RunLocal\n",
    "\n",
    "# Be sure to update the App inputs in the app_inputs.json file.\n",
    "\n",
    "# Launch the App\n",
    "run = RunLocal()\n",
    "exit_msg = run.launch()\n",
    "print(exit_msg)\n"
   ]
  }
 ],
 "metadata": {
  "kernelspec": {
   "display_name": "tcex-app-template-latest-3.11",
   "language": "python",
   "name": "python3"
  },
  "language_info": {
   "codemirror_mode": {
    "name": "ipython",
    "version": 3
   },
   "file_extension": ".py",
   "mimetype": "text/x-python",
   "name": "python",
   "nbconvert_exporter": "python",
   "pygments_lexer": "ipython3",
   "version": "3.11.2"
  },
  "orig_nbformat": 4
 },
 "nbformat": 4,
 "nbformat_minor": 2
}
